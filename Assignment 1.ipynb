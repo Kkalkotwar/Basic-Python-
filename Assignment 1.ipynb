{
 "cells": [
  {
   "cell_type": "markdown",
   "id": "71c5f7c4",
   "metadata": {},
   "source": [
    "# BASIC PYTHON : ASSIGNMENT 1"
   ]
  },
  {
   "cell_type": "markdown",
   "id": "f83b181f",
   "metadata": {},
   "source": [
    "# 1. In the below elements which of them are values or an expression? eg:- values can be integer or string and expressions will be mathematical operators.\n",
    "* \n",
    "'hello'\n",
    "-87.8\n",
    "- \n",
    "/ \n",
    "+\t\n",
    "6\n",
    "\n",
    "\n",
    "\n",
    "Answer:\n",
    "Among the above options, 'hello', -87.8 and 6 are the values and '/' operator is an expression.\n"
   ]
  },
  {
   "cell_type": "raw",
   "id": "54f0f505",
   "metadata": {},
   "source": [
    "______________________________________________________________________________________________________________"
   ]
  },
  {
   "cell_type": "markdown",
   "id": "27afe284",
   "metadata": {},
   "source": [
    "# 2. What is the difference between string and variable?\n",
    "\n",
    "\n",
    "Answer:\n",
    "\n",
    "1. Variable is a container which store the values or data and give us the previlege to access that value and data at any point of time.\n",
    "\n",
    "    Eg:\n",
    "\n",
    "    a = [1,2,3,4,5,6,7,89]\n",
    "\n",
    "    Here , a is the variable.\n",
    "\n",
    "\n",
    "2. String is the value,we can use them to fill up a variable. String is always incorporated in inverted commas\n",
    "\n",
    "    Eg:\n",
    "\n",
    "    b = 'This is a string'\n",
    "\n",
    "    Here, 'This is a string' sentence is the string and b is the variable.\n"
   ]
  },
  {
   "cell_type": "raw",
   "id": "e8dbcd65",
   "metadata": {},
   "source": [
    "_______________________________________________________________________________________________________________"
   ]
  },
  {
   "cell_type": "markdown",
   "id": "1e702d98",
   "metadata": {},
   "source": [
    "# 3. Describe three different data types.\n",
    "\n",
    "\n",
    "Following are some data types which are widly used in python:\n",
    "\n",
    "    1. Integer\n",
    "    2. Float\n",
    "    3. String\n",
    "    4. List\n",
    "    5. Tuple\n",
    "    6. Dictionary\n",
    "    7. Booleans\n",
    "    \n",
    "1. Integers:\n",
    "     - Integers are the numerical values (Having no decimal places)\n",
    "     - These are the whole individual numbers which are are can be obtained by doing modulus between the two digits or by rounding off the decimal values\n",
    "     - Eg: 1, 3, 56,45, 66,78,90,1, etc.....\n",
    "\n",
    "2. Float:\n",
    "    - Float are also the numerical values (Considering the decimal places)\n",
    "    - These are the numbers which contain the decimal as well as the integer numbers.\n",
    "    \n",
    "    - Eg: 2.0, 3.4, 5.6, 6, 7, 1.2, 4.9, etc.... \n",
    "    \n",
    "3. String:\n",
    "    - String is the varchar data type, which contains the alphabets, numbers or any other value incorporated between inverted commas.\n",
    "    - Any value incorporated inbetween inverted commas is called as string\n",
    "    \n",
    "    - Eg: 'Hello World' , 'Hi Neuron' , 'This is the jupyter notebook', etc..."
   ]
  },
  {
   "cell_type": "raw",
   "id": "c1ccfc07",
   "metadata": {},
   "source": [
    "_______________________________________________________________________________________________________________"
   ]
  },
  {
   "cell_type": "markdown",
   "id": "0f1dae42",
   "metadata": {},
   "source": [
    "# 4. What is an expression made up of? What do all expressions do?\n",
    "\n",
    "\n",
    "Answer:\n",
    " - An expression is a combination of operators and operands that is interpreted to produce some other value.\n",
    " - In any programming language, an expression performs the task what it is been assigned\n",
    " \n",
    " Eg:\n",
    " \n",
    " while True:\n",
    "        try :\n",
    "            a = float(input('Enter the first Number'))\n",
    "            b = float(input('Enter the second Number'))\n",
    "            c = a/b\n",
    "            print(c)\n",
    "            break\n",
    "        except:\n",
    "            print('Value of Second Number cannot be Zero')\n",
    "            \n",
    "Here, in above code c = a/b is an expression."
   ]
  },
  {
   "cell_type": "raw",
   "id": "87283e0f",
   "metadata": {},
   "source": [
    "_______________________________________________________________________________________________________________"
   ]
  },
  {
   "cell_type": "markdown",
   "id": "8bd2d32f",
   "metadata": {},
   "source": [
    "# 5. This assignment statements, like spam = 10. What is the difference between an expression and a statement? \n",
    "\n",
    "\n",
    "Answer: An Expression always evaluates to a value. And, A statement does something, like creating a variable or displaying a value, it only does whatever the statement says.\n",
    "\n",
    "spam = 10 is a statement, because value 10 is been assigned to the vaiable spam\n",
    "\n",
    "a = 6\n",
    "b = 5\n",
    "\n",
    "c = a+b\n",
    "\n",
    "Where as, c = a+b is an expression"
   ]
  },
  {
   "cell_type": "raw",
   "id": "f9dfc178",
   "metadata": {},
   "source": [
    "_______________________________________________________________________________________________________________"
   ]
  },
  {
   "cell_type": "markdown",
   "id": "de42a2d4",
   "metadata": {},
   "source": [
    "# 6. After running the following code, what does the variable bacon contain?\n",
    "\n",
    "    bacon = 22\n",
    "    bacon + 1\n"
   ]
  },
  {
   "cell_type": "code",
   "execution_count": 3,
   "id": "32f1a386",
   "metadata": {},
   "outputs": [
    {
     "name": "stdout",
     "output_type": "stream",
     "text": [
      "23\n"
     ]
    }
   ],
   "source": [
    "# Answer:\n",
    "\n",
    "bacon = 22\n",
    "bacon = bacon + 1\n",
    "\n",
    "print (bacon)"
   ]
  },
  {
   "cell_type": "raw",
   "id": "222955c9",
   "metadata": {},
   "source": [
    "_______________________________________________________________________________________________________________"
   ]
  },
  {
   "cell_type": "markdown",
   "id": "8242c657",
   "metadata": {},
   "source": [
    "# 7. What should the values of the following two terms be?\n",
    "    'spam' + 'spamspam'\n",
    "    'spam' * 3\n"
   ]
  },
  {
   "cell_type": "code",
   "execution_count": 4,
   "id": "f8b3da40",
   "metadata": {},
   "outputs": [
    {
     "data": {
      "text/plain": [
       "'spamspamspam'"
      ]
     },
     "execution_count": 4,
     "metadata": {},
     "output_type": "execute_result"
    }
   ],
   "source": [
    "# Answer: This is the addition of two string\n",
    "\n",
    "'spam' + 'spamspam'\n"
   ]
  },
  {
   "cell_type": "code",
   "execution_count": 6,
   "id": "6f5a8173",
   "metadata": {},
   "outputs": [
    {
     "data": {
      "text/plain": [
       "'spamspamspam'"
      ]
     },
     "execution_count": 6,
     "metadata": {},
     "output_type": "execute_result"
    }
   ],
   "source": [
    "# Answer: This is the multiplication of string\n",
    "\n",
    "'spam' * 3"
   ]
  },
  {
   "cell_type": "raw",
   "id": "6587731c",
   "metadata": {},
   "source": [
    "_______________________________________________________________________________________________________________"
   ]
  },
  {
   "cell_type": "markdown",
   "id": "225b5c7c",
   "metadata": {},
   "source": [
    "# 8. Why is eggs a valid variable name while 100 is invalid?\n",
    "\n",
    "\n",
    "Answer: Egg is the valid variable name because no number is can be assigned to be the variable, number can only be the value."
   ]
  },
  {
   "cell_type": "raw",
   "id": "f9ed83b7",
   "metadata": {},
   "source": [
    "_______________________________________________________________________________________________________________"
   ]
  },
  {
   "cell_type": "markdown",
   "id": "c49e5d72",
   "metadata": {},
   "source": [
    "# 9. What three functions can be used to get the integer, floating-point number, or string version of a value?\n",
    "\n",
    "Answer: The int() , float() , and str( ) functions will evaluate to the integer, floating-point number, and string versions of the value passed to them."
   ]
  },
  {
   "cell_type": "raw",
   "id": "dc77f5ee",
   "metadata": {},
   "source": [
    "_______________________________________________________________________________________________________________"
   ]
  },
  {
   "cell_type": "markdown",
   "id": "c6942098",
   "metadata": {},
   "source": [
    "# 10. Why does this expression cause an error? How can you fix it?\n",
    "\n",
    "    'I have eaten ' + 99 + ' burritos.'\n"
   ]
  },
  {
   "cell_type": "code",
   "execution_count": 7,
   "id": "8c4c023e",
   "metadata": {},
   "outputs": [
    {
     "data": {
      "text/plain": [
       "'I have eaten 99 burritos.'"
      ]
     },
     "execution_count": 7,
     "metadata": {},
     "output_type": "execute_result"
    }
   ],
   "source": [
    "# Answer: \n",
    "    # This expression causes an error because addition between string and integer is not possible.\n",
    "    # Following can be the possible solution for the same\n",
    "    \n",
    "    # Converting the integer value into string and then adding all three of them\n",
    "    \n",
    "'I have eaten ' + str(99) + ' burritos.'\n"
   ]
  },
  {
   "cell_type": "code",
   "execution_count": 8,
   "id": "d53decd7",
   "metadata": {},
   "outputs": [
    {
     "data": {
      "text/plain": [
       "'I have eaten 99 burritos.'"
      ]
     },
     "execution_count": 8,
     "metadata": {},
     "output_type": "execute_result"
    }
   ],
   "source": [
    "# Another Method:\n",
    "\n",
    "'I have eaten ' + '99' + ' burritos.'\n"
   ]
  },
  {
   "cell_type": "markdown",
   "id": "18afab44",
   "metadata": {},
   "source": []
  }
 ],
 "metadata": {
  "kernelspec": {
   "display_name": "Python 3",
   "language": "python",
   "name": "python3"
  },
  "language_info": {
   "codemirror_mode": {
    "name": "ipython",
    "version": 3
   },
   "file_extension": ".py",
   "mimetype": "text/x-python",
   "name": "python",
   "nbconvert_exporter": "python",
   "pygments_lexer": "ipython3",
   "version": "3.8.8"
  }
 },
 "nbformat": 4,
 "nbformat_minor": 5
}
